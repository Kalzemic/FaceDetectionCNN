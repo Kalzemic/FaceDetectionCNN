{
 "cells": [
  {
   "cell_type": "code",
   "execution_count": null,
   "id": "e8ce2237",
   "metadata": {
    "vscode": {
     "languageId": "plaintext"
    }
   },
   "outputs": [],
   "source": [
    "import torch \n",
    "import torch.nn as "
   ]
  }
 ],
 "metadata": {
  "language_info": {
   "name": "python"
  }
 },
 "nbformat": 4,
 "nbformat_minor": 5
}
